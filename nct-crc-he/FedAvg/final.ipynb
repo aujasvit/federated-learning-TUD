{
 "cells": [
  {
   "cell_type": "code",
   "execution_count": 2,
   "metadata": {},
   "outputs": [
    {
     "name": "stderr",
     "output_type": "stream",
     "text": [
      "/gris/gris-f/homelv/adatta/miniconda3/envs/pytorchenv/lib/python3.8/site-packages/tqdm/auto.py:21: TqdmWarning: IProgress not found. Please update jupyter and ipywidgets. See https://ipywidgets.readthedocs.io/en/stable/user_install.html\n",
      "  from .autonotebook import tqdm as notebook_tqdm\n"
     ]
    },
    {
     "data": {
      "text/plain": [
       "device(type='cuda', index=2)"
      ]
     },
     "execution_count": 2,
     "metadata": {},
     "output_type": "execute_result"
    }
   ],
   "source": [
    "import torch\n",
    "import torchvision\n",
    "from torch import nn\n",
    "device = torch.device('cuda:2') if torch.cuda.is_available() else \"cpu\"\n",
    "device"
   ]
  },
  {
   "cell_type": "code",
   "execution_count": 2,
   "metadata": {},
   "outputs": [
    {
     "name": "stdout",
     "output_type": "stream",
     "text": [
      "/gris/gris-f/homelv/adatta/miniconda3/envs/pytorchenv/bin/python\n"
     ]
    }
   ],
   "source": [
    "! which python"
   ]
  },
  {
   "cell_type": "markdown",
   "metadata": {},
   "source": [
    "## Engine"
   ]
  },
  {
   "cell_type": "code",
   "execution_count": 2,
   "metadata": {},
   "outputs": [],
   "source": [
    "from torch.utils.tensorboard import SummaryWriter\n",
    "import torchinfo\n",
    "writer = SummaryWriter()\n",
    "\n",
    "def create_writer(experiment_name: str, \n",
    "                  model_name: str, \n",
    "                  extra: str=None) -> torch.utils.tensorboard.writer.SummaryWriter():\n",
    "    \"\"\"Creates a torch.utils.tensorboard.writer.SummaryWriter() instance saving to a specific log_dir.\n",
    "\n",
    "    log_dir is a combination of runs/timestamp/experiment_name/model_name/extra.\n",
    "\n",
    "    Where timestamp is the current date in YYYY-MM-DD format.\n",
    "\n",
    "    Args:\n",
    "        experiment_name (str): Name of experiment.\n",
    "        model_name (str): Name of model.\n",
    "        extra (str, optional): Anything extra to add to the directory. Defaults to None.\n",
    "\n",
    "    Returns:\n",
    "        torch.utils.tensorboard.writer.SummaryWriter(): Instance of a writer saving to log_dir.\n",
    "\n",
    "    Example usage:\n",
    "        # Create a writer saving to \"runs/2022-06-04/data_10_percent/effnetb2/5_epochs/\"\n",
    "        writer = create_writer(experiment_name=\"data_10_percent\",\n",
    "                               model_name=\"effnetb2\",\n",
    "                               extra=\"5_epochs\")\n",
    "        # The above is the same as:\n",
    "        writer = SummaryWriter(log_dir=\"runs/2022-06-04/data_10_percent/effnetb2/5_epochs/\")\n",
    "    \"\"\"\n",
    "    from datetime import datetime\n",
    "    import os\n",
    "\n",
    "    # Get timestamp of current date (all experiments on certain day live in same folder)\n",
    "    timestamp = datetime.now().strftime(\"%Y-%m-%d\") # returns current date in YYYY-MM-DD format\n",
    "\n",
    "    if extra:\n",
    "        # Create log directory path\n",
    "        log_dir = os.path.join(\"runs\", timestamp, experiment_name, model_name, extra)\n",
    "    else:\n",
    "        log_dir = os.path.join(\"runs\", timestamp, experiment_name, model_name)\n",
    "        \n",
    "    print(f\"[INFO] Created SummaryWriter, saving to: {log_dir}...\")\n",
    "    return SummaryWriter(log_dir=log_dir)"
   ]
  },
  {
   "cell_type": "code",
   "execution_count": 3,
   "metadata": {},
   "outputs": [],
   "source": [
    "from typing import Dict, List, Tuple\n",
    "from tqdm.auto import tqdm\n",
    "def train_step(model: torch.nn.Module,\n",
    "                dataloader: torch.utils.data.DataLoader,\n",
    "                loss_fn: torch.nn.Module,\n",
    "                optimizer: torch.optim.Optimizer,\n",
    "                device: torch.device) -> Tuple[float,float]:\n",
    "\n",
    "    model.train()\n",
    "    train_loss, train_acc = 0.0,0.0\n",
    "\n",
    "    for batch, (x,y) in enumerate(dataloader):\n",
    "        x, y = x.to(device), y.to(device)\n",
    "        y_pred = model(x)\n",
    "        \n",
    "        loss = loss_fn(y_pred, y)\n",
    "        train_loss += loss.item()\n",
    "\n",
    "        optimizer.zero_grad()\n",
    "\n",
    "        loss.backward()\n",
    "\n",
    "        optimizer.step()\n",
    "\n",
    "        y_pred_class = torch.argmax(torch.softmax(y_pred, dim=1), dim=1)\n",
    "        train_acc += (y_pred_class==y).sum().item()/len(y_pred)\n",
    "\n",
    "    train_loss /= len(dataloader)\n",
    "    train_acc /= len(dataloader)\n",
    "\n",
    "    return train_loss, train_acc\n",
    "\n",
    "\n",
    "def validate_step(model: torch.nn.Module,\n",
    "              dataloader: torch.utils.data.DataLoader,\n",
    "              loss_fn: torch.nn.Module,\n",
    "              device: torch.device) -> Tuple[float,float]:\n",
    "    \n",
    "    model.eval()\n",
    "\n",
    "    test_loss, test_acc = 0, 0\n",
    "\n",
    "    with torch.inference_mode():\n",
    "\n",
    "        for batch, (x, y) in enumerate(dataloader):\n",
    "            x, y = x.to(device), y.to(device)\n",
    "            # print(x.device)\n",
    "            y_pred_logits = model(x)\n",
    "            \n",
    "            loss = loss_fn(y_pred_logits, y)\n",
    "            test_loss += loss.item()\n",
    "\n",
    "            y_pred_labels = torch.argmax(torch.softmax(y_pred_logits, dim=1), dim=1)\n",
    "            test_acc += (y_pred_labels == y).sum().item()/len(y_pred_labels)\n",
    "        \n",
    "    test_loss /= len(dataloader)\n",
    "    test_acc /= len(dataloader)\n",
    "    return test_loss, test_acc\n",
    "\n",
    "\n",
    "\n",
    "    \n",
    "# Add writer parameter to train()\n",
    "def train(model: torch.nn.Module, \n",
    "          train_dataloader: torch.utils.data.DataLoader, \n",
    "          test_dataloader: torch.utils.data.DataLoader, \n",
    "          optimizer: torch.optim.Optimizer,\n",
    "          loss_fn: torch.nn.Module,\n",
    "          epochs: int,\n",
    "          device: torch.device, \n",
    "          writer: torch.utils.tensorboard.writer.SummaryWriter # new parameter to take in a writer\n",
    "          ) -> Dict[str, List]:\n",
    "\n",
    "    # Create empty results dictionary\n",
    "    results = {\"train_loss\": [],\n",
    "               \"train_acc\": [],\n",
    "               \"test_loss\": [],\n",
    "               \"test_acc\": []\n",
    "    }\n",
    "\n",
    "    for epoch in tqdm(range(epochs)):\n",
    "        train_loss, train_acc = train_step(model=model,\n",
    "                                          dataloader=train_dataloader,\n",
    "                                          loss_fn=loss_fn,\n",
    "                                          optimizer=optimizer,\n",
    "                                          device=device)\n",
    "        test_loss, test_acc = validate_step(model=model,\n",
    "          dataloader=test_dataloader,\n",
    "          loss_fn=loss_fn,\n",
    "          device=device)\n",
    "\n",
    "        print(\n",
    "          f\"Epoch: {epoch+1} | \"\n",
    "          f\"train_loss: {train_loss:.4f} | \"\n",
    "          f\"train_acc: {train_acc:.4f} | \"\n",
    "          f\"test_loss: {test_loss:.4f} | \"\n",
    "          f\"test_acc: {test_acc:.4f}\"\n",
    "        )\n",
    "\n",
    "        results[\"train_loss\"].append(train_loss)\n",
    "        results[\"train_acc\"].append(train_acc)\n",
    "        results[\"test_loss\"].append(test_loss)\n",
    "        results[\"test_acc\"].append(test_acc)\n",
    "\n",
    "\n",
    "        ### New: Use the writer parameter to track experiments ###\n",
    "        # See if there's a writer, if so, log to it\n",
    "        if writer:\n",
    "            # Add results to SummaryWriter\n",
    "            writer.add_scalars(main_tag=\"Loss\", \n",
    "                               tag_scalar_dict={\"train_loss\": train_loss,\n",
    "                                                \"test_loss\": test_loss},\n",
    "                               global_step=epoch)\n",
    "            writer.add_scalars(main_tag=\"Accuracy\", \n",
    "                               tag_scalar_dict={\"train_acc\": train_acc,\n",
    "                                                \"test_acc\": test_acc}, \n",
    "                               global_step=epoch)\n",
    "\n",
    "            # Close the writer\n",
    "            writer.close()\n",
    "        else:\n",
    "            pass\n",
    "    ### End new ###\n",
    "\n",
    "    return results"
   ]
  },
  {
   "cell_type": "markdown",
   "metadata": {},
   "source": [
    "## Dataset Prep"
   ]
  },
  {
   "cell_type": "code",
   "execution_count": 3,
   "metadata": {},
   "outputs": [],
   "source": [
    "from pathlib import Path\n",
    "\n",
    "data_path = Path(\"/local/scratch/NCT-CRC-HE/NCT-CRC-HE-100K/\")"
   ]
  },
  {
   "cell_type": "code",
   "execution_count": 5,
   "metadata": {},
   "outputs": [
    {
     "name": "stdout",
     "output_type": "stream",
     "text": [
      "There are 9 directories and 0 images in '/local/scratch/NCT-CRC-HE/NCT-CRC-HE-100K'.\n",
      "There are 0 directories and 14317 images in '/local/scratch/NCT-CRC-HE/NCT-CRC-HE-100K/TUM'.\n",
      "There are 0 directories and 10407 images in '/local/scratch/NCT-CRC-HE/NCT-CRC-HE-100K/ADI'.\n",
      "There are 0 directories and 10566 images in '/local/scratch/NCT-CRC-HE/NCT-CRC-HE-100K/BACK'.\n",
      "There are 0 directories and 11512 images in '/local/scratch/NCT-CRC-HE/NCT-CRC-HE-100K/DEB'.\n",
      "There are 0 directories and 8763 images in '/local/scratch/NCT-CRC-HE/NCT-CRC-HE-100K/NORM'.\n",
      "There are 0 directories and 10446 images in '/local/scratch/NCT-CRC-HE/NCT-CRC-HE-100K/STR'.\n",
      "There are 0 directories and 11557 images in '/local/scratch/NCT-CRC-HE/NCT-CRC-HE-100K/LYM'.\n",
      "There are 0 directories and 8896 images in '/local/scratch/NCT-CRC-HE/NCT-CRC-HE-100K/MUC'.\n",
      "There are 0 directories and 13536 images in '/local/scratch/NCT-CRC-HE/NCT-CRC-HE-100K/MUS'.\n"
     ]
    }
   ],
   "source": [
    "import os\n",
    "def walk_through_directory(dir_path):\n",
    "    for dirpath, dirnames, filenames in os.walk(dir_path):\n",
    "        print(f\"There are {len(dirnames)} directories and {len(filenames)} images in '{dirpath}'.\")\n",
    "\n",
    "walk_through_directory(dir_path=data_path)"
   ]
  },
  {
   "cell_type": "code",
   "execution_count": 6,
   "metadata": {},
   "outputs": [
    {
     "name": "stdout",
     "output_type": "stream",
     "text": [
      "Random image path: /local/scratch/NCT-CRC-HE/NCT-CRC-HE-100K/MUC/MUC-RMKPFSTR.tif\n",
      "Image class: MUC\n",
      "Image height: 224\n",
      "Image width: 224\n"
     ]
    },
    {
     "data": {
      "image/jpeg": "[encoded data removed]",
      "image/png": "[encoded data removed]",
      "text/plain": [
       "<PIL.TiffImagePlugin.TiffImageFile image mode=RGB size=224x224>"
      ]
     },
     "execution_count": 6,
     "metadata": {},
     "output_type": "execute_result"
    }
   ],
   "source": [
    "# Printing random image\n",
    "import random\n",
    "from PIL import Image\n",
    "\n",
    "random.seed(42)\n",
    "\n",
    "image_path_list = list(data_path.glob(\"*/*.tif\"))\n",
    "random_image_path = random.choice(image_path_list)\n",
    "image_class = random_image_path.parent.stem\n",
    "\n",
    "img = Image.open(random_image_path)\n",
    "\n",
    "print(f\"Random image path: {random_image_path}\")\n",
    "print(f\"Image class: {image_class}\")\n",
    "print(f\"Image height: {img.height}\") \n",
    "print(f\"Image width: {img.width}\")\n",
    "img"
   ]
  },
  {
   "cell_type": "markdown",
   "metadata": {},
   "source": [
    "Dataset prep for 5 clients with IID data of 20,000 images each"
   ]
  },
  {
   "cell_type": "code",
   "execution_count": 4,
   "metadata": {},
   "outputs": [
    {
     "name": "stdout",
     "output_type": "stream",
     "text": [
      "['ADI', 'BACK', 'DEB', 'LYM', 'MUC', 'MUS', 'NORM', 'STR', 'TUM']\n"
     ]
    }
   ],
   "source": [
    "from torch.utils.data import DataLoader, Subset\n",
    "from torchvision import datasets, transforms\n",
    "import numpy\n",
    "\n",
    "BATCH_SIZE = 32\n",
    "NUM_WORKERS = 2\n",
    "NUM_SAMPLES=20000\n",
    "total_samples=100000\n",
    "\n",
    "data_transform = transforms.Compose([\n",
    "    transforms.ToTensor()\n",
    "])\n",
    "\n",
    "data = datasets.ImageFolder(\n",
    "    root = data_path,\n",
    "    transform=data_transform\n",
    ")\n",
    "\n",
    "# indices=torch.tensor(numpy.random.permutation(numpy.arange(total_samples)))\n",
    "\n",
    "# train_indices = []\n",
    "# validate_indices=[]\n",
    "# test_indices = []\n",
    "\n",
    "# for i in range(5):\n",
    "#     train_indices.append(indices[NUM_SAMPLES*(i):NUM_SAMPLES*(i) + 16000])\n",
    "#     validate_indices.append(indices[NUM_SAMPLES*(i) + 16000: NUM_SAMPLES*(i) + 18000])\n",
    "#     test_indices.append(indices[NUM_SAMPLES*(i) + 18000: NUM_SAMPLES*(i) + NUM_SAMPLES])\n",
    "\n",
    "# print(\"Indices made\")\n",
    "\n",
    "# train_datasets = []\n",
    "# validate_datasets = []\n",
    "# test_datasets = []\n",
    "\n",
    "# for i in range(5):\n",
    "#     train_datasets.append(Subset(data, train_indices[i]))\n",
    "#     validate_datasets.append(Subset(data, validate_indices[i]))\n",
    "#     test_datasets.append(Subset(data, test_indices[i]))\n",
    "\n",
    "# print(\"Datasets made\")\n",
    "\n",
    "\n",
    "# print(len(train_datasets[0]), len(test_datasets[0]), len(validate_datasets[0]))\n",
    "\n",
    "# train_dataloaders = []\n",
    "# validate_dataloaders = []\n",
    "# test_dataloaders = []\n",
    "\n",
    "# for i in range(5):\n",
    "#     train_dataloaders.append(DataLoader(\n",
    "#         dataset=train_datasets[i],\n",
    "#         batch_size = BATCH_SIZE,\n",
    "#         shuffle = True,\n",
    "#         num_workers= NUM_WORKERS,\n",
    "#         pin_memory = True\n",
    "#     ))\n",
    "\n",
    "#     validate_dataloaders.append(DataLoader(\n",
    "#         dataset=validate_datasets[i],\n",
    "#         batch_size = BATCH_SIZE,\n",
    "#         shuffle = True,\n",
    "#         num_workers= NUM_WORKERS,\n",
    "#         pin_memory = True\n",
    "#     ))\n",
    "\n",
    "#     test_dataloaders.append(DataLoader(\n",
    "#         dataset=test_datasets[i],\n",
    "#         batch_size = BATCH_SIZE,\n",
    "#         shuffle = True,\n",
    "#         num_workers= NUM_WORKERS,\n",
    "#         pin_memory = True\n",
    "#     ))\n",
    "\n",
    "# print(\"DataLoaders made\")\n",
    "print(data.classes)"
   ]
  },
  {
   "cell_type": "code",
   "execution_count": 9,
   "metadata": {},
   "outputs": [
    {
     "data": {
      "text/plain": [
       "['ADI', 'BACK', 'DEB', 'LYM', 'MUC', 'MUS', 'NORM', 'STR', 'TUM']"
      ]
     },
     "execution_count": 9,
     "metadata": {},
     "output_type": "execute_result"
    }
   ],
   "source": [
    "data.classes"
   ]
  },
  {
   "cell_type": "markdown",
   "metadata": {},
   "source": [
    "## Multi-layer perceptron"
   ]
  },
  {
   "cell_type": "code",
   "execution_count": 127,
   "metadata": {},
   "outputs": [],
   "source": [
    "NUM_CLASSES = len(data.classes)\n",
    "TOTAL_PIXELS = torch.numel(data[0][0])\n",
    "\n",
    "class MultiLayerPerceptron(nn.Module):\n",
    "    def __init__(self):\n",
    "        super().__init__()\n",
    "        self.flatten = torch.nn.Flatten()\n",
    "        self.layer1 = nn.Linear(\n",
    "            in_features = TOTAL_PIXELS,\n",
    "            out_features=200    \n",
    "        )\n",
    "        self.layer2 = nn.Linear(\n",
    "            in_features=200,\n",
    "            out_features=200\n",
    "        )\n",
    "        self.classifier = nn.Linear(\n",
    "            in_features = 200,\n",
    "            out_features = NUM_CLASSES\n",
    "        )\n",
    "\n",
    "    def forward(self, x):\n",
    "        return self.classifier(torch.relu(self.layer2(torch.relu(self.layer1(self.flatten(x))))))"
   ]
  },
  {
   "cell_type": "code",
   "execution_count": 168,
   "metadata": {},
   "outputs": [
    {
     "data": {
      "text/plain": [
       "==========================================================================================\n",
       "Layer (type:depth-idx)                   Output Shape              Param #\n",
       "==========================================================================================\n",
       "MultiLayerPerceptron                     [1, 9]                    --\n",
       "├─Flatten: 1-1                           [1, 150528]               --\n",
       "├─Linear: 1-2                            [1, 200]                  30,105,800\n",
       "├─Linear: 1-3                            [1, 200]                  40,200\n",
       "├─Linear: 1-4                            [1, 9]                    1,809\n",
       "==========================================================================================\n",
       "Total params: 30,147,809\n",
       "Trainable params: 30,147,809\n",
       "Non-trainable params: 0\n",
       "Total mult-adds (M): 30.15\n",
       "==========================================================================================\n",
       "Input size (MB): 0.60\n",
       "Forward/backward pass size (MB): 0.00\n",
       "Params size (MB): 120.59\n",
       "Estimated Total Size (MB): 121.20\n",
       "=========================================================================================="
      ]
     },
     "execution_count": 168,
     "metadata": {},
     "output_type": "execute_result"
    }
   ],
   "source": [
    "model0 = MultiLayerPerceptron()\n",
    "\n",
    "torchinfo.summary(model0, input_size= data[0][0].unsqueeze(0).shape)"
   ]
  },
  {
   "cell_type": "code",
   "execution_count": 152,
   "metadata": {},
   "outputs": [],
   "source": [
    "from torch.utils.tensorboard import SummaryWriter\n",
    "import torchinfo\n",
    "\n",
    "\n",
    "def create_writer(experiment_name: str, \n",
    "                  model_name: str, \n",
    "                  extra: str=None) -> torch.utils.tensorboard.writer.SummaryWriter():\n",
    "    \"\"\"Creates a torch.utils.tensorboard.writer.SummaryWriter() instance saving to a specific log_dir.\n",
    "\n",
    "    log_dir is a combination of runs/timestamp/experiment_name/model_name/extra.\n",
    "\n",
    "    Where timestamp is the current date in YYYY-MM-DD format.\n",
    "\n",
    "    Args:\n",
    "        experiment_name (str): Name of experiment.\n",
    "        model_name (str): Name of model.\n",
    "        extra (str, optional): Anything extra to add to the directory. Defaults to None.\n",
    "\n",
    "    Returns:\n",
    "        torch.utils.tensorboard.writer.SummaryWriter(): Instance of a writer saving to log_dir.\n",
    "\n",
    "    Example usage:\n",
    "        # Create a writer saving to \"runs/2022-06-04/data_10_percent/effnetb2/5_epochs/\"\n",
    "        writer = create_writer(experiment_name=\"data_10_percent\",\n",
    "                               model_name=\"effnetb2\",\n",
    "                               extra=\"5_epochs\")\n",
    "        # The above is the same as:\n",
    "        writer = SummaryWriter(log_dir=\"runs/2022-06-04/data_10_percent/effnetb2/5_epochs/\")\n",
    "    \"\"\"\n",
    "    from datetime import datetime\n",
    "    import os\n",
    "\n",
    "    # Get timestamp of current date (all experiments on certain day live in same folder)\n",
    "    timestamp = datetime.now().strftime(\"%Y-%m-%d\") # returns current date in YYYY-MM-DD format\n",
    "\n",
    "    if extra:\n",
    "        # Create log directory path\n",
    "        log_dir = os.path.join(\"runs\", timestamp, experiment_name, model_name, extra)\n",
    "    else:\n",
    "        log_dir = os.path.join(\"runs\", timestamp, experiment_name, model_name)\n",
    "        \n",
    "    print(f\"[INFO] Created SummaryWriter, saving to: {log_dir}...\")\n",
    "    return SummaryWriter(log_dir=log_dir)"
   ]
  },
  {
   "cell_type": "code",
   "execution_count": 153,
   "metadata": {},
   "outputs": [],
   "source": [
    "from typing import Type\n",
    "\n",
    "class Client:\n",
    "    def __init__(self, \n",
    "                model_type: Type[nn.Module], \n",
    "                loss_fn: Type[nn.Module],\n",
    "                optimizer: Type[torch.optim.Optimizer],\n",
    "                train_dataloader: Type[DataLoader],\n",
    "                validate_dataloader: Type[DataLoader],\n",
    "                test_dataloader: Type[DataLoader],\n",
    "                lr\n",
    "            ):\n",
    "        self.model = model_type().to(device)\n",
    "        self.loss_fn = loss_fn()\n",
    "        self.optimizer = optimizer(self.model.parameters(), lr)\n",
    "        self.test_dataloader = test_dataloader\n",
    "        self.validate_dataloader = validate_dataloader\n",
    "        self.train_dataloader = train_dataloader\n",
    "        self.lr = lr\n",
    "    \n",
    "    def refresh(self):\n",
    "        self.model = self.model.to(device)\n",
    "        self.loss_fn = self.loss_fn.__class__()\n",
    "        self.optimizer = self.optimizer.__class__(self.model.parameters(), self.lr)\n",
    "    \n",
    "    def train_step(self):\n",
    "        self.model.train()\n",
    "\n",
    "        train_loss, train_acc = 0.0, 0.0\n",
    "\n",
    "        for batch, (x,y) in enumerate(self.train_dataloader):\n",
    "            x,y = x.to(device), y.to(device)\n",
    "            y_pred = self.model(x)\n",
    "\n",
    "            loss = self.loss_fn(y_pred, y)\n",
    "            train_loss += loss.item()\n",
    "\n",
    "            self.optimizer.zero_grad()\n",
    "\n",
    "            loss.backward()\n",
    "\n",
    "            self.optimizer.step()\n",
    "\n",
    "            y_pred_class = torch.argmax(torch.softmax(y_pred, dim = 1), dim = 1)\n",
    "            train_acc += (y_pred_class == y).sum().item()/len(y_pred)\n",
    "        \n",
    "        train_loss /= len(self.train_dataloader)\n",
    "        train_acc /= len(self.train_dataloader)\n",
    "        \n",
    "        return train_loss, train_acc\n",
    "\n",
    "    \n",
    "    def validate_step(self):\n",
    "\n",
    "        self.model.eval()\n",
    "\n",
    "        test_loss, test_acc = 0.0,0.0\n",
    "        \n",
    "        with torch.inference_mode():\n",
    "\n",
    "            for batch, (x,y) in enumerate(self.validate_dataloader):\n",
    "                x, y = x.to(device), y.to(device)\n",
    "\n",
    "                y_pred_logits = self.model(x)\n",
    "\n",
    "                loss = self.loss_fn(y_pred_logits, y)\n",
    "                test_loss += loss.item()\n",
    "\n",
    "                y_pred_labels = torch.argmax(torch.softmax(y_pred_logits, dim=1), dim=1)\n",
    "                test_acc += (y_pred_labels == y).sum().item()/len(y_pred_labels)\n",
    "\n",
    "        \n",
    "        test_loss /= len(self.validate_dataloader)\n",
    "        test_acc /= len(self.validate_dataloader)\n",
    "\n",
    "    \n",
    "        return test_loss, test_acc\n",
    "\n",
    "\n",
    "    def train(self, epochs, writer: torch.utils.tensorboard.writer.SummaryWriter) -> Dict[str, List]:\n",
    "\n",
    "        results = {\"train_loss\": [],\n",
    "                \"train_acc\": [],\n",
    "                \"test_loss\": [],\n",
    "                \"test_acc\": []\n",
    "        }\n",
    "\n",
    "        for epoch in range(epochs):\n",
    "            train_loss, train_acc = self.train_step()\n",
    "\n",
    "            test_loss, test_acc = self.validate_step()\n",
    "\n",
    "            # print(\n",
    "            #     f\"Epoch: {epoch+1} | \"\n",
    "            #     f\"train_loss: {train_loss:.4f} | \"\n",
    "            #     f\"train_acc: {train_acc:.4f} | \"\n",
    "            #     f\"test_loss: {test_loss:.4f} | \"\n",
    "            #     f\"test_acc: {test_acc:.4f}\"\n",
    "            # )\n",
    "            results[\"train_loss\"].append(train_loss)\n",
    "            results[\"train_acc\"].append(train_acc)\n",
    "            results[\"test_loss\"].append(test_loss)\n",
    "            results[\"test_acc\"].append(test_acc)\n",
    "\n",
    "            if writer:\n",
    "                # Add results to SummaryWriter\n",
    "                writer.add_scalars(main_tag=\"Loss\", \n",
    "                                tag_scalar_dict={\"train_loss\": train_loss,\n",
    "                                                    \"test_loss\": test_loss},\n",
    "                                global_step=epoch)\n",
    "                writer.add_scalars(main_tag=\"Accuracy\", \n",
    "                                tag_scalar_dict={\"train_acc\": train_acc,\n",
    "                                                    \"test_acc\": test_acc}, \n",
    "                                global_step=epoch)\n",
    "\n",
    "                # Close the writer\n",
    "                writer.close()\n",
    "            else:\n",
    "                pass\n",
    "        ### End new ###\n",
    "\n",
    "        return results\n"
   ]
  },
  {
   "cell_type": "code",
   "execution_count": 169,
   "metadata": {},
   "outputs": [],
   "source": [
    "from torch.utils.data import DataLoader, Subset\n",
    "from torchvision import datasets, transforms\n",
    "import numpy\n",
    "class Server:\n",
    "    def __init__(self,\n",
    "        num_clients,\n",
    "        model_type: Type[nn.Module], \n",
    "        loss_fn: Type[nn.Module],\n",
    "        optimizer: Type[torch.optim.Optimizer],\n",
    "        lr\n",
    "        ):\n",
    "\n",
    "        self.NUM_CLIENTS = num_clients\n",
    "        self.model_type = model_type\n",
    "        self.model = model_type().to(device)\n",
    "        self.loss_fn_type = loss_fn\n",
    "        self.optimizer_type = optimizer\n",
    "        train_dataloaders, validate_dataloaders, test_dataloaders = self.make_data(batch_size=32, num_workers=2)\n",
    "        self.clients = []\n",
    "        for i in range(self.NUM_CLIENTS):\n",
    "            new_client = Client(model_type=self.model_type, \n",
    "                                loss_fn = self.loss_fn_type,\n",
    "                                optimizer=self.optimizer_type,\n",
    "                                train_dataloader = train_dataloaders[i],\n",
    "                                validate_dataloader=validate_dataloaders[i],\n",
    "                                test_dataloader=test_dataloaders[i],\n",
    "                                lr=0.01)\n",
    "            self.clients.append(new_client)\n",
    "        \n",
    "\n",
    "\n",
    "    def make_data(self,\n",
    "        batch_size,\n",
    "        num_workers\n",
    "        ):\n",
    "\n",
    "        data_path = Path(\"/local/scratch/NCT-CRC-HE/NCT-CRC-HE-100K/\")\n",
    "        BATCH_SIZE = batch_size\n",
    "        NUM_WORKERS = num_workers\n",
    "        NUM_CLIENTS = self.NUM_CLIENTS\n",
    "\n",
    "        data_transform = transforms.Compose([\n",
    "            transforms.ToTensor()\n",
    "        ])\n",
    "\n",
    "        data = datasets.ImageFolder(\n",
    "            root = data_path,\n",
    "            transform=data_transform\n",
    "        )\n",
    "\n",
    "        total_samples=len(data)\n",
    "        NUM_SAMPLES=total_samples/NUM_CLIENTS\n",
    "        \n",
    "        indices=torch.tensor(numpy.random.permutation(numpy.arange(total_samples)))\n",
    "\n",
    "        train_indices = []\n",
    "        validate_indices=[]\n",
    "        test_indices = []\n",
    "\n",
    "        NUM_SAMPLES = int(NUM_SAMPLES)\n",
    "        train_split, val_split, test_split = int(0.8*NUM_SAMPLES), int(0.1*NUM_SAMPLES), int(0.1*NUM_SAMPLES)\n",
    "\n",
    "        for i in range(NUM_CLIENTS):\n",
    "            train_indices.append(indices[NUM_SAMPLES*(i):NUM_SAMPLES*(i) + train_split])\n",
    "            validate_indices.append(indices[NUM_SAMPLES*(i) + train_split: NUM_SAMPLES*(i) + train_split+val_split])\n",
    "            test_indices.append(indices[NUM_SAMPLES*(i) + train_split+val_split: NUM_SAMPLES*(i) + NUM_SAMPLES])\n",
    "\n",
    "        # print(\"Indices made\")\n",
    "\n",
    "        train_datasets = []\n",
    "        validate_datasets = []\n",
    "        test_datasets = []\n",
    "\n",
    "        for i in range(NUM_CLIENTS):\n",
    "            train_datasets.append(Subset(data, train_indices[i]))\n",
    "            validate_datasets.append(Subset(data, validate_indices[i]))\n",
    "            test_datasets.append(Subset(data, test_indices[i]))\n",
    "\n",
    "        # print(\"Datasets made\")\n",
    "\n",
    "\n",
    "        # print(len(train_datasets[0]), len(test_datasets[0]), len(validate_datasets[0]))\n",
    "\n",
    "        train_dataloaders = []\n",
    "        validate_dataloaders = []\n",
    "        test_dataloaders = []\n",
    "\n",
    "        for i in range(NUM_CLIENTS):\n",
    "            train_dataloaders.append(DataLoader(\n",
    "                dataset=train_datasets[i],\n",
    "                batch_size = BATCH_SIZE,\n",
    "                shuffle = True,\n",
    "                num_workers= NUM_WORKERS,\n",
    "                pin_memory = True\n",
    "            ))\n",
    "\n",
    "            validate_dataloaders.append(DataLoader(\n",
    "                dataset=validate_datasets[i],\n",
    "                batch_size = BATCH_SIZE,\n",
    "                shuffle = True,\n",
    "                num_workers= NUM_WORKERS,\n",
    "                pin_memory = True\n",
    "            ))\n",
    "\n",
    "            test_dataloaders.append(DataLoader(\n",
    "                dataset=test_datasets[i],\n",
    "                batch_size = BATCH_SIZE,\n",
    "                shuffle = True,\n",
    "                num_workers= NUM_WORKERS,\n",
    "                pin_memory = True\n",
    "            ))\n",
    "            \n",
    "        return train_dataloaders, validate_dataloaders, test_dataloaders\n",
    "        # print(\"DataLoaders made\")\n",
    "    \n",
    "    def run(self,\n",
    "        server_epochs,\n",
    "        client_epochs,\n",
    "        folder_path):\n",
    "\n",
    "        for epoch in tqdm(range(server_epochs)):\n",
    "            train_loss, validate_loss = 0,0\n",
    "            train_acc, validate_acc = 0,0\n",
    "            for j in range(self.NUM_CLIENTS):\n",
    "                results = self.clients[i].train(epochs = client_epochs, writer = None)\n",
    "                train_loss += results[\"train_loss\"][-1]\n",
    "                validate_loss += results[\"test_loss\"][-1]\n",
    "                train_acc += results[\"train_acc\"][-1]\n",
    "                validate_acc += results[\"test_acc\"][-1]\n",
    "\n",
    "                p = folder_path/f\"models/client-{j}/\"\n",
    "                p.mkdir(parents=True, exist_ok=True)\n",
    "                file_path = p/f\"epoch-{epoch}.pt\"\n",
    "\n",
    "                torch.save(obj=self.clients[j].model.state_dict(), f=file_path)\n",
    "            train_loss /= self.NUM_CLIENTS\n",
    "            validate_loss /= self.NUM_CLIENTS\n",
    "            train_acc /= self.NUM_CLIENTS\n",
    "            validate_acc /= self.NUM_CLIENTS\n",
    "\n",
    "            print(\n",
    "                f\"Epoch: {epoch+1} | \"\n",
    "                f\"train_loss: {train_loss:.4f} | \"\n",
    "                f\"train_acc: {train_acc:.4f} | \"\n",
    "                f\"validate_loss: {validate_loss:.4f} | \"\n",
    "                f\"validate_acc: {validate_acc:.4f}\"\n",
    "            )\n",
    "\n",
    "            self.model.load_state_dict(self.clients[0].model.state_dict())\n",
    "            for j in range(1, self.NUM_CLIENTS):\n",
    "                for(key, value) in self.model.state_dict().items():\n",
    "                    self.model.state_dict()[key].copy_(self.clients[j].model.state_dict()[key] + value)\n",
    "            \n",
    "            for (key, value) in self.model.state_dict().items():\n",
    "                self.model.state_dict()[key].copy_(value/self.NUM_CLIENTS)\n",
    "\n",
    "            for j in range(self.NUM_CLIENTS):\n",
    "                self.clients[j].model.load_state_dict(self.model.state_dict())\n",
    "                self.clients[j].refresh()\n",
    "                \n",
    "            \n",
    "            final_loss, final_acc = 0,0\n",
    "            for client in self.clients:\n",
    "                temp_loss, temp_acc = client.validate_step()\n",
    "                final_loss += temp_loss\n",
    "                final_acc += temp_acc\n",
    "            \n",
    "            final_loss /= self.NUM_CLIENTS\n",
    "            final_acc /= self.NUM_CLIENTS\n",
    "\n",
    "            print(\n",
    "                \"Aggregated Model\"\n",
    "                f\"Epoch: {epoch+1} | \"\n",
    "                f\"validate_loss: {final_loss:.4f} | \"\n",
    "                f\"validate_acc: {final_acc:.4f}\"\n",
    "            )        \n",
    "\n",
    "            p = folder_path/\"models/server/\"\n",
    "            p.mkdir(parents = True, exist_ok = True)\n",
    "            p_file = p/f\"epoch-{epoch}.pt\"\n",
    "            torch.save(obj=self.model.state_dict(), f=p_file)"
   ]
  },
  {
   "cell_type": "code",
   "execution_count": 170,
   "metadata": {},
   "outputs": [],
   "source": [
    "torch.manual_seed(42)\n",
    "torch.cuda.manual_seed(42)\n",
    "server = Server(\n",
    "    num_clients=5,\n",
    "    model_type= MultiLayerPerceptron,\n",
    "    loss_fn=nn.CrossEntropyLoss,\n",
    "    optimizer=torch.optim.SGD,\n",
    "    lr=0.01\n",
    ")"
   ]
  },
  {
   "cell_type": "code",
   "execution_count": 171,
   "metadata": {},
   "outputs": [
    {
     "name": "stderr",
     "output_type": "stream",
     "text": [
      "  0%|          | 0/20 [00:00<?, ?it/s]"
     ]
    },
    {
     "name": "stdout",
     "output_type": "stream",
     "text": [
      "Epoch: 1 | train_loss: 1.5851 | train_acc: 0.4002 | validate_loss: 1.6394 | validate_acc: 0.3682\n",
      "Aggregated ModelEpoch: 1 | validate_loss: 2.1904 | validate_acc: 0.1634\n"
     ]
    },
    {
     "name": "stderr",
     "output_type": "stream",
     "text": [
      "  5%|▌         | 1/20 [04:41<1:29:06, 281.39s/it]"
     ]
    },
    {
     "name": "stdout",
     "output_type": "stream",
     "text": [
      "Epoch: 2 | train_loss: 1.4997 | train_acc: 0.4368 | validate_loss: 1.5497 | validate_acc: 0.4137\n",
      "Aggregated ModelEpoch: 2 | validate_loss: 2.0956 | validate_acc: 0.2045\n"
     ]
    },
    {
     "name": "stderr",
     "output_type": "stream",
     "text": [
      " 10%|█         | 2/20 [09:23<1:24:37, 282.10s/it]"
     ]
    },
    {
     "name": "stdout",
     "output_type": "stream",
     "text": [
      "Epoch: 3 | train_loss: 1.4742 | train_acc: 0.4434 | validate_loss: 1.5705 | validate_acc: 0.4226\n",
      "Aggregated ModelEpoch: 3 | validate_loss: 1.9586 | validate_acc: 0.2770\n"
     ]
    },
    {
     "name": "stderr",
     "output_type": "stream",
     "text": [
      " 15%|█▌        | 3/20 [14:06<1:20:00, 282.37s/it]"
     ]
    },
    {
     "name": "stdout",
     "output_type": "stream",
     "text": [
      "Epoch: 4 | train_loss: 1.4507 | train_acc: 0.4543 | validate_loss: 1.4387 | validate_acc: 0.4584\n",
      "Aggregated ModelEpoch: 4 | validate_loss: 1.8032 | validate_acc: 0.3592\n"
     ]
    },
    {
     "name": "stderr",
     "output_type": "stream",
     "text": [
      " 20%|██        | 4/20 [18:30<1:13:19, 274.96s/it]"
     ]
    },
    {
     "name": "stdout",
     "output_type": "stream",
     "text": [
      "Epoch: 5 | train_loss: 1.4335 | train_acc: 0.4627 | validate_loss: 1.5269 | validate_acc: 0.4253\n",
      "Aggregated ModelEpoch: 5 | validate_loss: 1.6696 | validate_acc: 0.4191\n"
     ]
    },
    {
     "name": "stderr",
     "output_type": "stream",
     "text": [
      " 25%|██▌       | 5/20 [22:57<1:08:03, 272.26s/it]"
     ]
    },
    {
     "name": "stdout",
     "output_type": "stream",
     "text": [
      "Epoch: 6 | train_loss: 1.4128 | train_acc: 0.4679 | validate_loss: 1.4849 | validate_acc: 0.4279\n",
      "Aggregated ModelEpoch: 6 | validate_loss: 1.5714 | validate_acc: 0.4509\n"
     ]
    },
    {
     "name": "stderr",
     "output_type": "stream",
     "text": [
      " 30%|███       | 6/20 [27:48<1:04:59, 278.57s/it]"
     ]
    },
    {
     "name": "stdout",
     "output_type": "stream",
     "text": [
      "Epoch: 7 | train_loss: 1.3960 | train_acc: 0.4746 | validate_loss: 1.5913 | validate_acc: 0.4199\n",
      "Aggregated ModelEpoch: 7 | validate_loss: 1.5123 | validate_acc: 0.4540\n"
     ]
    },
    {
     "name": "stderr",
     "output_type": "stream",
     "text": [
      " 35%|███▌      | 7/20 [33:02<1:02:52, 290.23s/it]"
     ]
    },
    {
     "name": "stdout",
     "output_type": "stream",
     "text": [
      "Epoch: 8 | train_loss: 1.3815 | train_acc: 0.4803 | validate_loss: 1.4389 | validate_acc: 0.4541\n",
      "Aggregated ModelEpoch: 8 | validate_loss: 1.4606 | validate_acc: 0.4647\n"
     ]
    },
    {
     "name": "stderr",
     "output_type": "stream",
     "text": [
      " 40%|████      | 8/20 [38:10<59:07, 295.67s/it]  "
     ]
    },
    {
     "name": "stdout",
     "output_type": "stream",
     "text": [
      "Epoch: 9 | train_loss: 1.3726 | train_acc: 0.4849 | validate_loss: 1.4278 | validate_acc: 0.4573\n",
      "Aggregated ModelEpoch: 9 | validate_loss: 1.4177 | validate_acc: 0.4824\n"
     ]
    },
    {
     "name": "stderr",
     "output_type": "stream",
     "text": [
      " 45%|████▌     | 9/20 [43:33<55:49, 304.47s/it]"
     ]
    },
    {
     "name": "stdout",
     "output_type": "stream",
     "text": [
      "Epoch: 10 | train_loss: 1.3470 | train_acc: 0.4912 | validate_loss: 1.3999 | validate_acc: 0.4803\n",
      "Aggregated ModelEpoch: 10 | validate_loss: 1.3918 | validate_acc: 0.4895\n"
     ]
    },
    {
     "name": "stderr",
     "output_type": "stream",
     "text": [
      " 50%|█████     | 10/20 [48:57<51:42, 310.22s/it]"
     ]
    },
    {
     "name": "stdout",
     "output_type": "stream",
     "text": [
      "Epoch: 11 | train_loss: 1.3194 | train_acc: 0.5041 | validate_loss: 1.5214 | validate_acc: 0.4361\n",
      "Aggregated ModelEpoch: 11 | validate_loss: 1.3626 | validate_acc: 0.4948\n"
     ]
    },
    {
     "name": "stderr",
     "output_type": "stream",
     "text": [
      " 55%|█████▌    | 11/20 [54:20<47:07, 314.17s/it]"
     ]
    },
    {
     "name": "stdout",
     "output_type": "stream",
     "text": [
      "Epoch: 12 | train_loss: 1.3002 | train_acc: 0.5109 | validate_loss: 1.3921 | validate_acc: 0.4754\n",
      "Aggregated ModelEpoch: 12 | validate_loss: 1.3406 | validate_acc: 0.4992\n"
     ]
    },
    {
     "name": "stderr",
     "output_type": "stream",
     "text": [
      " 60%|██████    | 12/20 [59:40<42:07, 315.91s/it]"
     ]
    },
    {
     "name": "stdout",
     "output_type": "stream",
     "text": [
      "Epoch: 13 | train_loss: 1.2793 | train_acc: 0.5163 | validate_loss: 1.5042 | validate_acc: 0.4464\n",
      "Aggregated ModelEpoch: 13 | validate_loss: 1.3335 | validate_acc: 0.5010\n"
     ]
    },
    {
     "name": "stderr",
     "output_type": "stream",
     "text": [
      " 65%|██████▌   | 13/20 [1:05:08<37:17, 319.70s/it]"
     ]
    },
    {
     "name": "stdout",
     "output_type": "stream",
     "text": [
      "Epoch: 14 | train_loss: 1.2536 | train_acc: 0.5296 | validate_loss: 1.3848 | validate_acc: 0.4878\n",
      "Aggregated ModelEpoch: 14 | validate_loss: 1.3109 | validate_acc: 0.5085\n"
     ]
    },
    {
     "name": "stderr",
     "output_type": "stream",
     "text": [
      " 70%|███████   | 14/20 [1:10:42<32:24, 324.02s/it]"
     ]
    },
    {
     "name": "stdout",
     "output_type": "stream",
     "text": [
      "Epoch: 15 | train_loss: 1.2356 | train_acc: 0.5354 | validate_loss: 1.4888 | validate_acc: 0.4502\n",
      "Aggregated ModelEpoch: 15 | validate_loss: 1.3132 | validate_acc: 0.5035\n"
     ]
    },
    {
     "name": "stderr",
     "output_type": "stream",
     "text": [
      " 75%|███████▌  | 15/20 [1:17:16<28:45, 345.05s/it]"
     ]
    },
    {
     "name": "stdout",
     "output_type": "stream",
     "text": [
      "Epoch: 16 | train_loss: 1.2121 | train_acc: 0.5423 | validate_loss: 1.3980 | validate_acc: 0.4871\n",
      "Aggregated ModelEpoch: 16 | validate_loss: 1.3194 | validate_acc: 0.4981\n"
     ]
    },
    {
     "name": "stderr",
     "output_type": "stream",
     "text": [
      " 80%|████████  | 16/20 [1:23:55<24:05, 361.42s/it]"
     ]
    },
    {
     "name": "stdout",
     "output_type": "stream",
     "text": [
      "Epoch: 17 | train_loss: 1.2111 | train_acc: 0.5426 | validate_loss: 1.4514 | validate_acc: 0.4883\n",
      "Aggregated ModelEpoch: 17 | validate_loss: 1.2820 | validate_acc: 0.5194\n"
     ]
    },
    {
     "name": "stderr",
     "output_type": "stream",
     "text": [
      " 85%|████████▌ | 17/20 [1:30:33<18:36, 372.27s/it]"
     ]
    },
    {
     "name": "stdout",
     "output_type": "stream",
     "text": [
      "Epoch: 18 | train_loss: 1.1840 | train_acc: 0.5553 | validate_loss: 1.4288 | validate_acc: 0.4710\n",
      "Aggregated ModelEpoch: 18 | validate_loss: 1.2838 | validate_acc: 0.5169\n"
     ]
    },
    {
     "name": "stderr",
     "output_type": "stream",
     "text": [
      " 90%|█████████ | 18/20 [1:36:54<12:29, 374.92s/it]"
     ]
    },
    {
     "name": "stdout",
     "output_type": "stream",
     "text": [
      "Epoch: 19 | train_loss: 1.1750 | train_acc: 0.5564 | validate_loss: 1.5807 | validate_acc: 0.4494\n",
      "Aggregated ModelEpoch: 19 | validate_loss: 1.3121 | validate_acc: 0.5055\n"
     ]
    },
    {
     "name": "stderr",
     "output_type": "stream",
     "text": [
      " 95%|█████████▌| 19/20 [1:43:34<06:22, 382.64s/it]"
     ]
    },
    {
     "name": "stdout",
     "output_type": "stream",
     "text": [
      "Epoch: 20 | train_loss: 1.1639 | train_acc: 0.5638 | validate_loss: 1.3717 | validate_acc: 0.4961\n",
      "Aggregated ModelEpoch: 20 | validate_loss: 1.2996 | validate_acc: 0.5115\n"
     ]
    },
    {
     "name": "stderr",
     "output_type": "stream",
     "text": [
      "100%|██████████| 20/20 [1:51:06<00:00, 333.32s/it]\n"
     ]
    }
   ],
   "source": [
    "server.run(\n",
    "    server_epochs=20,\n",
    "    client_epochs=5,\n",
    "    folder_path = Path(\"MultilayerPerceptron/client-5-server-20\")\n",
    ")"
   ]
  },
  {
   "cell_type": "code",
   "execution_count": 142,
   "metadata": {},
   "outputs": [
    {
     "name": "stdout",
     "output_type": "stream",
     "text": [
      "tensor([[True, True, True,  ..., True, True, True],\n",
      "        [True, True, True,  ..., True, True, True],\n",
      "        [True, True, True,  ..., True, True, True],\n",
      "        ...,\n",
      "        [True, True, True,  ..., True, True, True],\n",
      "        [True, True, True,  ..., True, True, True],\n",
      "        [True, True, True,  ..., True, True, True]], device='cuda:2')\n",
      "tensor([True, True, True, True, True, True, True, True, True, True, True, True,\n",
      "        True, True, True, True, True, True, True, True, True, True, True, True,\n",
      "        True, True, True, True, True, True, True, True, True, True, True, True,\n",
      "        True, True, True, True, True, True, True, True, True, True, True, True,\n",
      "        True, True, True, True, True, True, True, True, True, True, True, True,\n",
      "        True, True, True, True, True, True, True, True, True, True, True, True,\n",
      "        True, True, True, True, True, True, True, True, True, True, True, True,\n",
      "        True, True, True, True, True, True, True, True, True, True, True, True,\n",
      "        True, True, True, True, True, True, True, True, True, True, True, True,\n",
      "        True, True, True, True, True, True, True, True, True, True, True, True,\n",
      "        True, True, True, True, True, True, True, True, True, True, True, True,\n",
      "        True, True, True, True, True, True, True, True, True, True, True, True,\n",
      "        True, True, True, True, True, True, True, True, True, True, True, True,\n",
      "        True, True, True, True, True, True, True, True, True, True, True, True,\n",
      "        True, True, True, True, True, True, True, True, True, True, True, True,\n",
      "        True, True, True, True, True, True, True, True, True, True, True, True,\n",
      "        True, True, True, True, True, True, True, True], device='cuda:2')\n",
      "tensor([[True, True, True,  ..., True, True, True],\n",
      "        [True, True, True,  ..., True, True, True],\n",
      "        [True, True, True,  ..., True, True, True],\n",
      "        ...,\n",
      "        [True, True, True,  ..., True, True, True],\n",
      "        [True, True, True,  ..., True, True, True],\n",
      "        [True, True, True,  ..., True, True, True]], device='cuda:2')\n",
      "tensor([True, True, True, True, True, True, True, True, True, True, True, True,\n",
      "        True, True, True, True, True, True, True, True, True, True, True, True,\n",
      "        True, True, True, True, True, True, True, True, True, True, True, True,\n",
      "        True, True, True, True, True, True, True, True, True, True, True, True,\n",
      "        True, True, True, True, True, True, True, True, True, True, True, True,\n",
      "        True, True, True, True, True, True, True, True, True, True, True, True,\n",
      "        True, True, True, True, True, True, True, True, True, True, True, True,\n",
      "        True, True, True, True, True, True, True, True, True, True, True, True,\n",
      "        True, True, True, True, True, True, True, True, True, True, True, True,\n",
      "        True, True, True, True, True, True, True, True, True, True, True, True,\n",
      "        True, True, True, True, True, True, True, True, True, True, True, True,\n",
      "        True, True, True, True, True, True, True, True, True, True, True, True,\n",
      "        True, True, True, True, True, True, True, True, True, True, True, True,\n",
      "        True, True, True, True, True, True, True, True, True, True, True, True,\n",
      "        True, True, True, True, True, True, True, True, True, True, True, True,\n",
      "        True, True, True, True, True, True, True, True, True, True, True, True,\n",
      "        True, True, True, True, True, True, True, True], device='cuda:2')\n",
      "tensor([[True, True, True,  ..., True, True, True],\n",
      "        [True, True, True,  ..., True, True, True],\n",
      "        [True, True, True,  ..., True, True, True],\n",
      "        ...,\n",
      "        [True, True, True,  ..., True, True, True],\n",
      "        [True, True, True,  ..., True, True, True],\n",
      "        [True, True, True,  ..., True, True, True]], device='cuda:2')\n",
      "tensor([True, True, True, True, True, True, True, True, True], device='cuda:2')\n"
     ]
    }
   ],
   "source": [
    "model0 = MultiLayerPerceptron().to(device)\n",
    "model1 = MultiLayerPerceptron().to(device)\n",
    "len(model0.state_dict())\n",
    "for (key, value) in model0.state_dict().items():\n",
    "    l = model0.state_dict()[key]\n",
    "    model0.state_dict()[key].copy_(model1.state_dict()[key] + value)\n",
    "    print(l == model0.state_dict()[key])"
   ]
  },
  {
   "cell_type": "code",
   "execution_count": 182,
   "metadata": {},
   "outputs": [],
   "source": [
    "NUM_CLASSES = len(data.classes)\n",
    "class ConvolutionalNN(nn.Module):\n",
    "    def __init__(self, input_channels: int = 3, output_shape: int = NUM_CLASSES):\n",
    "        super().__init__()\n",
    "        self.conv_block_1 = nn.Conv2d(\n",
    "            in_channels= input_channels,\n",
    "            out_channels= 32,\n",
    "            kernel_size=5,\n",
    "            stride=1,\n",
    "            padding=2\n",
    "        )\n",
    "\n",
    "        self.conv_block_2 = nn.Conv2d(\n",
    "            in_channels=32,\n",
    "            out_channels=64,\n",
    "            kernel_size=5,\n",
    "            stride=1,\n",
    "            padding=2\n",
    "        )\n",
    "\n",
    "        self.linear_layer = nn.Linear(\n",
    "            in_features= 64*56*56,\n",
    "            out_features = 512,\n",
    "        )\n",
    "\n",
    "        self.classifier = nn.Linear(\n",
    "            in_features = 512,\n",
    "            out_features = NUM_CLASSES\n",
    "        )\n",
    "\n",
    "        self.max_pool2d = nn.MaxPool2d(2)\n",
    "\n",
    "    def forward(self, x):\n",
    "        return self.classifier(self.linear_layer(nn.Flatten()(self.max_pool2d(self.conv_block_2(self.max_pool2d(self.conv_block_1(x)))))))\n",
    "\n",
    "\n",
    "        "
   ]
  },
  {
   "cell_type": "code",
   "execution_count": 183,
   "metadata": {},
   "outputs": [
    {
     "data": {
      "text/plain": [
       "tensor([[-0.1377,  0.1696,  0.1024, -0.0392, -0.1145,  0.0812,  0.0278, -0.0043,\n",
       "          0.0469]], grad_fn=<AddmmBackward0>)"
      ]
     },
     "execution_count": 183,
     "metadata": {},
     "output_type": "execute_result"
    }
   ],
   "source": [
    "model1 = ConvolutionalNN(input_channels=3, output_shape = len(data.classes))\n",
    "model1(data[0][0].unsqueeze(dim=0))"
   ]
  },
  {
   "cell_type": "code",
   "execution_count": 190,
   "metadata": {},
   "outputs": [
    {
     "name": "stderr",
     "output_type": "stream",
     "text": [
      "  0%|          | 0/10 [00:00<?, ?it/s]"
     ]
    },
    {
     "name": "stdout",
     "output_type": "stream",
     "text": [
      "Epoch: 1 | train_loss: 127.1153 | train_acc: 0.6593 | validate_loss: 1550.0876 | validate_acc: 0.4531\n",
      "Aggregated ModelEpoch: 1 | validate_loss: 100.4556 | validate_acc: 0.1756\n"
     ]
    },
    {
     "name": "stderr",
     "output_type": "stream",
     "text": [
      " 10%|█         | 1/10 [09:05<1:21:52, 545.83s/it]"
     ]
    },
    {
     "name": "stdout",
     "output_type": "stream",
     "text": [
      "Epoch: 2 | train_loss: 460.4010 | train_acc: 0.5386 | validate_loss: 411.6838 | validate_acc: 0.4837\n",
      "Aggregated ModelEpoch: 2 | validate_loss: 470.2531 | validate_acc: 0.1094\n"
     ]
    },
    {
     "name": "stderr",
     "output_type": "stream",
     "text": [
      " 20%|██        | 2/10 [18:26<1:13:54, 554.36s/it]"
     ]
    },
    {
     "name": "stdout",
     "output_type": "stream",
     "text": [
      "Epoch: 3 | train_loss: 1716.0396 | train_acc: 0.5380 | validate_loss: 582.1703 | validate_acc: 0.5104\n",
      "Aggregated ModelEpoch: 3 | validate_loss: 718.0280 | validate_acc: 0.1095\n"
     ]
    },
    {
     "name": "stderr",
     "output_type": "stream",
     "text": [
      " 30%|███       | 3/10 [27:33<1:04:18, 551.15s/it]"
     ]
    },
    {
     "name": "stdout",
     "output_type": "stream",
     "text": [
      "Epoch: 4 | train_loss: 85662.7996 | train_acc: 0.5582 | validate_loss: 584.8341 | validate_acc: 0.4876\n",
      "Aggregated ModelEpoch: 4 | validate_loss: 361.9335 | validate_acc: 0.2191\n"
     ]
    },
    {
     "name": "stderr",
     "output_type": "stream",
     "text": [
      " 40%|████      | 4/10 [36:35<54:45, 547.65s/it]  "
     ]
    },
    {
     "name": "stdout",
     "output_type": "stream",
     "text": [
      "Epoch: 5 | train_loss: 134366.0378 | train_acc: 0.5238 | validate_loss: 1177.8940 | validate_acc: 0.4629\n",
      "Aggregated ModelEpoch: 5 | validate_loss: 556.3439 | validate_acc: 0.1675\n"
     ]
    },
    {
     "name": "stderr",
     "output_type": "stream",
     "text": [
      " 50%|█████     | 5/10 [45:25<45:05, 541.13s/it]"
     ]
    },
    {
     "name": "stdout",
     "output_type": "stream",
     "text": [
      "Epoch: 6 | train_loss: 492.6015 | train_acc: 0.6126 | validate_loss: 455.1253 | validate_acc: 0.4917\n",
      "Aggregated ModelEpoch: 6 | validate_loss: 538.6828 | validate_acc: 0.2604\n"
     ]
    },
    {
     "name": "stderr",
     "output_type": "stream",
     "text": [
      " 60%|██████    | 6/10 [54:29<36:08, 542.11s/it]"
     ]
    },
    {
     "name": "stdout",
     "output_type": "stream",
     "text": [
      "Epoch: 7 | train_loss: 185.4291 | train_acc: 0.6792 | validate_loss: 248.2535 | validate_acc: 0.4764\n",
      "Aggregated ModelEpoch: 7 | validate_loss: 493.3045 | validate_acc: 0.1724\n"
     ]
    },
    {
     "name": "stderr",
     "output_type": "stream",
     "text": [
      " 70%|███████   | 7/10 [1:03:25<27:00, 540.26s/it]"
     ]
    },
    {
     "name": "stdout",
     "output_type": "stream",
     "text": [
      "Epoch: 8 | train_loss: 145352.2975 | train_acc: 0.6115 | validate_loss: 6023.2464 | validate_acc: 0.4819\n",
      "Aggregated ModelEpoch: 8 | validate_loss: 510.5599 | validate_acc: 0.1690\n"
     ]
    },
    {
     "name": "stderr",
     "output_type": "stream",
     "text": [
      " 80%|████████  | 8/10 [1:12:26<18:01, 540.54s/it]"
     ]
    },
    {
     "name": "stdout",
     "output_type": "stream",
     "text": [
      "Epoch: 9 | train_loss: 1174.2341 | train_acc: 0.6169 | validate_loss: 580.6774 | validate_acc: 0.5277\n",
      "Aggregated ModelEpoch: 9 | validate_loss: 612.6037 | validate_acc: 0.1560\n"
     ]
    },
    {
     "name": "stderr",
     "output_type": "stream",
     "text": [
      " 90%|█████████ | 9/10 [1:21:40<09:04, 544.60s/it]"
     ]
    },
    {
     "name": "stdout",
     "output_type": "stream",
     "text": [
      "Epoch: 10 | train_loss: 159872.9237 | train_acc: 0.6027 | validate_loss: 3151.5656 | validate_acc: 0.5028\n",
      "Aggregated ModelEpoch: 10 | validate_loss: 345.8426 | validate_acc: 0.2141\n"
     ]
    },
    {
     "name": "stderr",
     "output_type": "stream",
     "text": [
      "100%|██████████| 10/10 [1:30:55<00:00, 545.59s/it]\n"
     ]
    }
   ],
   "source": [
    "server = Server(\n",
    "    num_clients=5,\n",
    "    model_type= ConvolutionalNN,\n",
    "    loss_fn=nn.CrossEntropyLoss,\n",
    "    optimizer=torch.optim.Adam,\n",
    "    lr=0.001\n",
    ")\n",
    "\n",
    "server.run(\n",
    "    server_epochs=10,\n",
    "    client_epochs=5,\n",
    "    folder_path = Path(\"ConvoultionalNN/client-1-server-20\")\n",
    ")"
   ]
  },
  {
   "cell_type": "code",
   "execution_count": 1,
   "metadata": {},
   "outputs": [
    {
     "ename": "NameError",
     "evalue": "name 'data' is not defined",
     "output_type": "error",
     "traceback": [
      "\u001b[0;31m---------------------------------------------------------------------------\u001b[0m",
      "\u001b[0;31mNameError\u001b[0m                                 Traceback (most recent call last)",
      "Cell \u001b[0;32mIn[1], line 1\u001b[0m\n\u001b[0;32m----> 1\u001b[0m \u001b[43mdata\u001b[49m\u001b[38;5;241m.\u001b[39mclasses\n",
      "\u001b[0;31mNameError\u001b[0m: name 'data' is not defined"
     ]
    }
   ],
   "source": [
    "data.classes"
   ]
  }
 ],
 "metadata": {
  "kernelspec": {
   "display_name": "pytorchenv",
   "language": "python",
   "name": "python3"
  },
  "language_info": {
   "codemirror_mode": {
    "name": "ipython",
    "version": 3
   },
   "file_extension": ".py",
   "mimetype": "text/x-python",
   "name": "python",
   "nbconvert_exporter": "python",
   "pygments_lexer": "ipython3",
   "version": "3.8.19"
  }
 },
 "nbformat": 4,
 "nbformat_minor": 2
}
