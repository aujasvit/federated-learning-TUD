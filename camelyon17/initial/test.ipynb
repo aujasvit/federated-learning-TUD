{
 "cells": [
  {
   "cell_type": "code",
   "execution_count": 1,
   "metadata": {},
   "outputs": [
    {
     "name": "stdout",
     "output_type": "stream",
     "text": [
      "hello world\n"
     ]
    }
   ],
   "source": [
    "print('hello world')"
   ]
  },
  {
   "cell_type": "code",
   "execution_count": 2,
   "metadata": {},
   "outputs": [
    {
     "data": {
      "text/plain": [
       "'1.13.1'"
      ]
     },
     "execution_count": 2,
     "metadata": {},
     "output_type": "execute_result"
    }
   ],
   "source": [
    "import torch\n",
    "torch.__version__"
   ]
  },
  {
   "cell_type": "code",
   "execution_count": 3,
   "metadata": {},
   "outputs": [
    {
     "data": {
      "text/plain": [
       "device(type='cuda', index=5)"
      ]
     },
     "execution_count": 3,
     "metadata": {},
     "output_type": "execute_result"
    }
   ],
   "source": [
    "torch.cuda.device_count()\n",
    "device = torch.device('cuda:5') if torch.cuda.is_available() else \"cpu\"\n",
    "device\n",
    "# torch.cuda.get_device_name(device=device)"
   ]
  },
  {
   "cell_type": "code",
   "execution_count": 4,
   "metadata": {},
   "outputs": [],
   "source": [
    "import re\n",
    "from typing import Dict, List, Tuple\n",
    "import torch\n",
    "from torchvision import datasets, transforms\n",
    "from torch.utils.data import DataLoader, Subset, Dataset\n",
    "from pathlib import Path\n",
    "import random\n",
    "import numpy as np\n",
    "import pandas as pd\n",
    "import pathlib\n",
    "from PIL import Image\n",
    "\n",
    "num_workers = 2\n",
    "data_path = Path(\"/local/scratch/camelyon17/camelyon17_v1.0/patches\")\n",
    "batch_size = 32\n",
    "total_samples, num_samples = 0, 0\n",
    "seed = 42\n",
    "num_clients = 5\n",
    "df = pd.read_csv(\"/local/scratch/camelyon17/camelyon17_v1.0/metadata.csv\")\n",
    "num_test_clients = 1\n"
   ]
  },
  {
   "cell_type": "code",
   "execution_count": 5,
   "metadata": {},
   "outputs": [],
   "source": [
    "from typing import Sequence, TypeVar\n",
    "import froodo.quickstart as fr\n",
    "\n",
    "\n",
    "T_co = TypeVar(\"T_co\", covariant=True)\n",
    "\n",
    "class SubsetOOD(Dataset[T_co]):\n",
    "    r\"\"\"\n",
    "    Subset of a dataset at specified indices.\n",
    "\n",
    "    Args:\n",
    "        dataset (Dataset): The whole Dataset\n",
    "        indices (sequence): Indices in the whole set selected for subset\n",
    "    \"\"\"\n",
    "\n",
    "    dataset: Dataset[T_co]\n",
    "    indices: Sequence[int]\n",
    "\n",
    "    def __init__(self, dataset: Dataset[T_co], indices: Sequence[int]) -> None:\n",
    "        self.dataset = dataset\n",
    "        self.indices = indices\n",
    "        self.augs = [fr.DarkSpotsAugmentation(1), fr.FatAugmentation(1), fr.SquamousAugmentation(1), fr.ThreadAugmentation(1), fr.GaussianBlurAugmentation(sigma=5)]\n",
    "\n",
    "\n",
    "    def __getitem__(self, idx):\n",
    "        aug = random.choose(self.augs)\n",
    "        return ((aug(fr.Sample(image=self.dataset[self.indices[idx]][0]))).image, self.dataset[self.indices[idx]][1])\n",
    "\n",
    "    def __getitems__(self, indices: List[int]) -> List[T_co]:\n",
    "        # add batched sampling support when parent dataset supports it.\n",
    "        # see torch.utils.data._utils.fetch._MapDatasetFetcher\n",
    "        if callable(getattr(self.dataset, \"__getitems__\", None)):\n",
    "            return self.dataset.__getitems__([self.indices[idx] for idx in indices])  # type: ignore[attr-defined]\n",
    "        else:\n",
    "            aug = [random.choice(self.augs) for i in range(len(indices))]\n",
    "            return [((aug[idx](fr.Sample(image=self.dataset[self.indices[idx]][0]))).image, self.dataset[self.indices[idx]][1]) for idx in indices]\n",
    "\n",
    "    def __len__(self):\n",
    "        return len(self.indices)"
   ]
  },
  {
   "cell_type": "code",
   "execution_count": 6,
   "metadata": {},
   "outputs": [],
   "source": [
    "def custom_loader(path):\n",
    "    with open(path, 'rb') as f:\n",
    "        img = Image.open(f)\n",
    "        return img.convert('RGBA')\n",
    "\n",
    "\n",
    "def find_classes(directory: str) -> Tuple[List[str], Dict[str, int]]:\n",
    "    \"\"\"Finds the class folder names in a target directory.\n",
    "    \n",
    "    Assumes target directory is in standard image classification format.\n",
    "\n",
    "    Args:\n",
    "        directory (str): target directory to load classnames from.\n",
    "\n",
    "    Returns:\n",
    "        Tuple[List[str], Dict[str, int]]: (list_of_class_names, dict(class_name: idx...))\n",
    "    \n",
    "    Example:\n",
    "        find_classes(\"food_images/train\")\n",
    "        >>> ([\"class_1\", \"class_2\"], {\"class_1\": 0, ...})\n",
    "    \"\"\"\n",
    "    # 1. Get the class names by scanning the target directory\n",
    "    classes = [\"Non-cancerous\", \"Cancerous\"]\n",
    "    \n",
    "    # 2. Raise an error if class names not found\n",
    "    if not classes:\n",
    "        raise FileNotFoundError(f\"Couldn't find any classes in {directory}.\")\n",
    "        \n",
    "    # 3. Create a dictionary of index labels (computers prefer numerical rather than string labels)\n",
    "    class_to_idx = {cls_name: i for i, cls_name in enumerate(classes)}\n",
    "    return classes, class_to_idx\n",
    "\n",
    "# Write a custom dataset class (inherits from torch.utils.data.Dataset)\n",
    "\n",
    "# 1. Subclass torch.utils.data.Dataset\n",
    "class ImageFolderCustom(Dataset):\n",
    "    \n",
    "    # 2. Initialize with a targ_dir and transform (optional) parameter\n",
    "    def __init__(self, targ_dir: str, transform=None) -> None:\n",
    "        \n",
    "        # 3. Create class attributes\n",
    "        # Get all image paths\n",
    "        self.paths = list(pathlib.Path(targ_dir).glob(\"*/*.png\")) # note: you'd have to update this if you've got .png's or .jpeg's\n",
    "        # Setup transforms\n",
    "        df = pd.read_csv(\"/local/scratch/camelyon17/camelyon17_v1.0/metadata.csv\")\n",
    "        # for idx in range(len(self.paths)):\n",
    "        #     image_path = self.paths[idx]\n",
    "        #     regex = re.compile(r'patch_patient_(\\d+)_node_(\\d+)_x_(\\d+)_y_(\\d+).png')\n",
    "        #     mo=regex.search(str(image_path)[69:])\n",
    "        #     patient,node,x,y = mo.groups()\n",
    "        #     patient,node,x,y = int(patient), int(node), int(x), int(y)\n",
    "        #     self.center[idx] = int(df[(df[\"patient\"] == patient) & (df[\"node\"] == node) & (df[\"x_coord\"] == x) & (df[\"y_coord\"] == y)][\"center\"].iloc[0])\n",
    "\n",
    "\n",
    "        self.transform = transform\n",
    "        # Create classes and class_to_idx attributes\n",
    "        self.classes, self.class_to_idx = find_classes(targ_dir)\n",
    "\n",
    "    # 4. Make function to load images\n",
    "    def load_image(self, index: int) -> Image.Image:\n",
    "        \"Opens an image via a path and returns it.\"\n",
    "        image_path = self.paths[index]\n",
    "        return Image.open(image_path) \n",
    "    \n",
    "    # 5. Overwrite the __len__() method (optional but recommended for subclasses of torch.utils.data.Dataset)\n",
    "    def __len__(self) -> int:\n",
    "        \"Returns the total number of samples.\"\n",
    "        return len(self.paths)\n",
    "    \n",
    "    # 6. Overwrite the __getitem__() method (required for subclasses of torch.utils.data.Dataset)\n",
    "    def __getitem__(self, index: int) -> Tuple[torch.Tensor, int]:\n",
    "        \"Returns one sample of data, data and label (X, y).\"\n",
    "        img = self.load_image(index)\n",
    "        img = img.convert(\"RGB\")\n",
    "        img_arr = np.asarray(img)\n",
    "        img = Image.fromarray(img_arr)\n",
    "        image_path = self.paths[index]\n",
    "        regex = re.compile(r'patch_patient_(\\d+)_node_(\\d+)_x_(\\d+)_y_(\\d+).png')\n",
    "        mo=regex.search(str(image_path)[69:])\n",
    "        # print(mo.groups())\n",
    "        patient,node,x,y = mo.groups()\n",
    "        patient,node,x,y = int(patient), int(node), int(x), int(y)\n",
    "\n",
    "        has_cancer = int(df[(df[\"patient\"] == patient) & (df[\"node\"] == node) & (df[\"x_coord\"] == x) & (df[\"y_coord\"] == y)][\"tumor\"].iloc[0])     \n",
    "        class_name  = \"Cancerous\" if has_cancer else \"Non-cancerous\" # expects path in data_folder/class_name/image.jpeg\n",
    "        class_idx = self.class_to_idx[class_name]\n",
    "\n",
    "        # Transform if necessary\n",
    "        if self.transform:\n",
    "            return self.transform(img), class_idx # return data, label (X, y)\n",
    "        else:\n",
    "            return img, class_idx # return data, label (X, y)\n",
    "\n",
    "\n",
    "def create_dataloaders(data_transform: transforms.Compose):\n",
    "    random.seed(seed)\n",
    "\n",
    "    paths = list(pathlib.Path(data_path).glob(\"*/*.png\")) # note: you'd have to update this if you've got .png's or .jpeg's\n",
    "    # print(len(paths))\n",
    "    center = []\n",
    "    # # Setup transforms\n",
    "    df = pd.read_csv(\"/local/scratch/camelyon17/camelyon17_v1.0/metadata.csv\")\n",
    "    regex = re.compile(r'patch_patient_(\\d+)_node_(\\d+)_x_(\\d+)_y_(\\d+).png')\n",
    "    for idx in range(len(paths)):\n",
    "        image_path = paths[idx]\n",
    "        mo=regex.search(str(image_path)[69:])\n",
    "        patient,node,x,y = mo.groups()\n",
    "        patient,node,x,y = int(patient), int(node), int(x), int(y)\n",
    "        center.append(int(df[(df[\"patient\"] == patient) & (df[\"node\"] == node) & (df[\"x_coord\"] == x) & (df[\"y_coord\"] == y)][\"center\"].iloc[0]))\n",
    "\n",
    "    indices_subsets = {0:[],1:[],2:[],3:[],4:[],}\n",
    "\n",
    "    for i in range(len(center)):\n",
    "        indices_subsets[center[i]].append(i)\n",
    "    \n",
    "    for (key, value) in indices_subsets.items():\n",
    "        random.shuffle(indices_subsets[key])\n",
    "    \n",
    "\n",
    "    data = ImageFolderCustom(\n",
    "        targ_dir = data_path,\n",
    "        transform = data_transform\n",
    "    )\n",
    "\n",
    "    total_samples = len(data)\n",
    "    num_samples = total_samples\n",
    "\n",
    "\n",
    "    train_indices=[]\n",
    "    validate_indices=[]\n",
    "    test_indices=[]\n",
    "\n",
    "    train_client_indices = [0,1,3,4]\n",
    "    ood_client_indices = [3]\n",
    "\n",
    "    for i in range(num_clients):\n",
    "        if(i in train_client_indices):\n",
    "            train_split = int(0.8*len(indices_subsets[i]))\n",
    "            train_indices.append(indices_subsets[i][0:train_split])\n",
    "            validate_indices.append(indices_subsets[i][train_split:])\n",
    "        else:\n",
    "            test_indices.append(indices_subsets[i])\n",
    "\n",
    "    train_datasets = []\n",
    "    validate_datasets = []\n",
    "    test_datasets = []\n",
    "\n",
    "    tr_idx, te_idx = 0,0\n",
    "    for i in range(num_clients):\n",
    "        if(i in train_client_indices):\n",
    "            if(i in ood_client_indices):\n",
    "                train_datasets.append(SubsetOOD(data, train_indices[tr_idx]))\n",
    "                validate_datasets.append(SubsetOOD(data, validate_indices[tr_idx]))\n",
    "                tr_idx+=1\n",
    "            else:\n",
    "                train_datasets.append(Subset(data, train_indices[tr_idx]))\n",
    "                validate_datasets.append(Subset(data, validate_indices[tr_idx]))\n",
    "                tr_idx+=1\n",
    "        else:\n",
    "            test_datasets.append(Subset(data, test_indices[te_idx]))\n",
    "            te_idx+=1\n",
    "    \n",
    "    train_dataloaders = []\n",
    "    validate_dataloaders = []\n",
    "    test_dataloaders = []\n",
    "\n",
    "    tr_idx, te_idx = 0,0\n",
    "\n",
    "\n",
    "    for i in range(num_clients):\n",
    "        if(i in train_client_indices):\n",
    "            train_dataloaders.append(\n",
    "                DataLoader(\n",
    "                    dataset = train_datasets[tr_idx],\n",
    "                    batch_size = batch_size,\n",
    "                    shuffle = True,\n",
    "                    num_workers = num_workers,\n",
    "                    pin_memory = True\n",
    "            ))\n",
    "\n",
    "            validate_dataloaders.append(\n",
    "                DataLoader(\n",
    "                    dataset = validate_datasets[tr_idx],\n",
    "                    batch_size = batch_size,\n",
    "                    shuffle = True,\n",
    "                    num_workers = num_workers,\n",
    "                    pin_memory = True\n",
    "                )\n",
    "            )\n",
    "\n",
    "            tr_idx += 1\n",
    "\n",
    "        else:\n",
    "            test_dataloaders.append(\n",
    "                DataLoader(\n",
    "                    dataset = test_datasets[te_idx],\n",
    "                    batch_size = batch_size,\n",
    "                    shuffle = True,\n",
    "                    num_workers = num_workers,\n",
    "                    pin_memory = True\n",
    "                )\n",
    "            )\n",
    "            te_idx += 1\n",
    "\n",
    "    return train_dataloaders, validate_dataloaders, test_dataloaders\n",
    "    \n"
   ]
  },
  {
   "cell_type": "code",
   "execution_count": 7,
   "metadata": {},
   "outputs": [],
   "source": [
    "data = ImageFolderCustom(\n",
    "    targ_dir = data_path,\n",
    "    transform = transforms.ToTensor()\n",
    ")\n"
   ]
  },
  {
   "cell_type": "code",
   "execution_count": 16,
   "metadata": {},
   "outputs": [],
   "source": [
    "ind  = [i for i in range(32)]\n",
    "l = SubsetOOD(data, ind)"
   ]
  },
  {
   "cell_type": "code",
   "execution_count": 17,
   "metadata": {},
   "outputs": [],
   "source": [
    "p = DataLoader(\n",
    "    dataset=l,\n",
    "    batch_size=32,\n",
    "    shuffle=True\n",
    ")"
   ]
  },
  {
   "cell_type": "code",
   "execution_count": 32,
   "metadata": {},
   "outputs": [
    {
     "data": {
      "text/plain": [
       "tensor(0)"
      ]
     },
     "execution_count": 32,
     "metadata": {},
     "output_type": "execute_result"
    }
   ],
   "source": [
    "img,label=next(iter(p))"
   ]
  },
  {
   "cell_type": "code",
   "execution_count": 33,
   "metadata": {},
   "outputs": [
    {
     "data": {
      "text/plain": [
       "torch.Size([3, 96, 96])"
      ]
     },
     "execution_count": 33,
     "metadata": {},
     "output_type": "execute_result"
    }
   ],
   "source": [
    "img[0].shape"
   ]
  },
  {
   "cell_type": "code",
   "execution_count": 34,
   "metadata": {},
   "outputs": [
    {
     "data": {
      "image/jpeg": "[encoded data removed]",
      "image/png": "[encoded data removed]",
      "text/plain": [
       "<PIL.Image.Image image mode=RGB size=96x96>"
      ]
     },
     "execution_count": 34,
     "metadata": {},
     "output_type": "execute_result"
    }
   ],
   "source": [
    "Image.fromarray((img[0].permute(1,2,0)*255).numpy().astype(np.uint8))"
   ]
  }
 ],
 "metadata": {
  "kernelspec": {
   "display_name": "Python 3 (ipykernel)",
   "language": "python",
   "name": "python3"
  },
  "language_info": {
   "codemirror_mode": {
    "name": "ipython",
    "version": 3
   },
   "file_extension": ".py",
   "mimetype": "text/x-python",
   "name": "python",
   "nbconvert_exporter": "python",
   "pygments_lexer": "ipython3",
   "version": "3.8.19"
  }
 },
 "nbformat": 4,
 "nbformat_minor": 2
}
